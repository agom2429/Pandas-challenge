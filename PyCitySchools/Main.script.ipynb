{
 "cells": [
  {
   "cell_type": "code",
   "execution_count": 96,
   "metadata": {},
   "outputs": [
    {
     "name": "stdout",
     "output_type": "stream",
     "text": [
      "15\n",
      "39170\n",
      "24649428\n",
      "78.98537145774827\n",
      "81.87784018381414\n",
      "74.9808526933878\n",
      "85.80546336482001\n",
      "65.17232575950983\n"
     ]
    }
   ],
   "source": [
    "import pandas as pd\n",
    "from pathlib import Path\n",
    "import numpy as np\n",
    "#df=pd.DataFrames\n",
    "school_data_set = Path(\"Resources/schools_complete.csv\")\n",
    "student_data_set = Path(\"Resources/students_complete.csv\")\n",
    "\n",
    "school_data_df =pd.read_csv(r\"C:\\Users\\agom2\\OneDrive\\Documents\\Pandas-challenge\\Starter_Code\\PyCitySchools\\Resources\\schools_complete.csv\")\n",
    "student_data_df = pd.read_csv(r\"C:\\Users\\agom2\\OneDrive\\Documents\\Pandas-challenge\\Starter_Code\\PyCitySchools\\Resources\\students_complete.csv\")\n",
    "\n",
    "\n",
    "school_data_complete = pd.merge(student_data_df, school_data_df, how=\"left\", on=[\"school_name\", \"school_name\"])\n",
    "school_data_complete.head()\n",
    "\n",
    "#\"school_name\":[]\n",
    "Schools=len(school_data_df[\"school_name\"].unique())\n",
    "print(Schools)\n",
    "Students=len(student_data_df[\"student_name\"])\n",
    "print(Students)\n",
    "\n",
    "Budget=(school_data_df[\"budget\"].sum())\n",
    "print(Budget)\n",
    "\n",
    "Average_math=(student_data_df[\"math_score\"].mean())\n",
    "print(Average_math)\n",
    "Average_reading=(student_data_df[\"reading_score\"].mean())\n",
    "print(Average_reading)\n",
    "\n",
    "\n",
    "passing_math_count = school_data_complete[(school_data_complete[\"math_score\"] >= 70)].count()[\"student_name\"]\n",
    "passing_math_percentage = passing_math_count / float(Students) * 100\n",
    "print (passing_math_percentage)\n",
    "\n",
    "passing_reading_count= school_data_complete[(school_data_complete[\"reading_score\"]>= 70)].count()[\"student_name\"]\n",
    "passing_reading_percentage= passing_reading_count/ float(Students)* 100\n",
    "print(passing_reading_percentage)\n",
    "\n",
    "passing_math_reading_count = school_data_complete[\n",
    "    (school_data_complete[\"math_score\"] >= 70) & (school_data_complete[\"reading_score\"] >= 70)\n",
    "].count()[\"student_name\"]\n",
    "overall_passing_rate = passing_math_reading_count /  float(Students) * 100\n",
    "overall_passing_rate\n",
    "print(overall_passing_rate)\n"
   ]
  },
  {
   "cell_type": "code",
   "execution_count": 93,
   "metadata": {},
   "outputs": [
    {
     "data": {
      "text/html": [
       "<div>\n",
       "<style scoped>\n",
       "    .dataframe tbody tr th:only-of-type {\n",
       "        vertical-align: middle;\n",
       "    }\n",
       "\n",
       "    .dataframe tbody tr th {\n",
       "        vertical-align: top;\n",
       "    }\n",
       "\n",
       "    .dataframe thead th {\n",
       "        text-align: right;\n",
       "    }\n",
       "</style>\n",
       "<table border=\"1\" class=\"dataframe\">\n",
       "  <thead>\n",
       "    <tr style=\"text-align: right;\">\n",
       "      <th></th>\n",
       "      <th>Total schools</th>\n",
       "      <th>Total Students</th>\n",
       "      <th>Budget Total</th>\n",
       "      <th>Average Math Score</th>\n",
       "      <th>Average Reading Score</th>\n",
       "      <th>Percent Passing Math</th>\n",
       "      <th>Percent Passing Reading</th>\n",
       "      <th>Overall Passing</th>\n",
       "    </tr>\n",
       "  </thead>\n",
       "  <tbody>\n",
       "    <tr>\n",
       "      <th>0</th>\n",
       "      <td>$15.00</td>\n",
       "      <td>39,170</td>\n",
       "      <td>$24,649,428.00</td>\n",
       "      <td>$78.99</td>\n",
       "      <td>$81.88</td>\n",
       "      <td>$74.98</td>\n",
       "      <td>$85.81</td>\n",
       "      <td>$65.17</td>\n",
       "    </tr>\n",
       "  </tbody>\n",
       "</table>\n",
       "</div>"
      ],
      "text/plain": [
       "  Total schools Total Students    Budget Total Average Math Score  \\\n",
       "0        $15.00         39,170  $24,649,428.00             $78.99   \n",
       "\n",
       "  Average Reading Score Percent Passing Math Percent Passing Reading  \\\n",
       "0                $81.88               $74.98                  $85.81   \n",
       "\n",
       "  Overall Passing  \n",
       "0          $65.17  "
      ]
     },
     "execution_count": 93,
     "metadata": {},
     "output_type": "execute_result"
    }
   ],
   "source": [
    "\n",
    "#import pandas as pd \n",
    "#df=pd.DataFrames\n",
    "district_summary=(\n",
    "    {\"Total schools\":Schools,\n",
    "    \"Total Students\": Students,\n",
    "    \"Budget Total\":Budget,\n",
    "    \"Average Math Score\": Average_math,\n",
    "    \"Average Reading Score\": Average_reading,\n",
    "    \"Percent Passing Math\":passing_math_percentage,\n",
    "    \"Percent Passing Reading\":passing_reading_percentage,\n",
    "    \"Overall Passing\":overall_passing_rate,})\n",
    "district_summary=pd.DataFrame([district_summary])\n",
    "#district_summary[\"Total Students\"] = district_summary[\"Total Students\"].map(\"{:,}\".format)\n",
    "district_summary[\"Total Students\"] = district_summary[\"Total Students\"].map(\"{:,}\".format)\n",
    "district_summary[\"Budget Total\"] = district_summary[\"Budget Total\"].map(\"${:,.2f}\".format)\n",
    "district_summary[\"Average Math Score\"] = district_summary[\"Average Math Score\"].map(\"${:,.2f}\".format)\n",
    "district_summary[\"Average Reading Score\"] = district_summary[\"Average Reading Score\"].map(\"${:,.2f}\".format)\n",
    "district_summary[\"Percent Passing Math\"] = district_summary[\"Percent Passing Math\"].map(\"${:,.2f}\".format)\n",
    "district_summary[\"Percent Passing Reading\"] = district_summary[\"Percent Passing Reading\"].map(\"${:,.2f}\".format)\n",
    "district_summary[\"Overall Passing\"] = district_summary[\"Overall Passing\"].map(\"${:,.2f}\".format)\n",
    "district_summary[\"Total schools\"] = district_summary[\"Total schools\"].map(\"${:,.2f}\".format)\n",
    "district_summary\n",
    "\n",
    "\n",
    "\n"
   ]
  },
  {
   "cell_type": "code",
   "execution_count": null,
   "metadata": {},
   "outputs": [],
   "source": [
    "\n"
   ]
  }
 ],
 "metadata": {
  "kernelspec": {
   "display_name": "Python 3",
   "language": "python",
   "name": "python3"
  },
  "language_info": {
   "codemirror_mode": {
    "name": "ipython",
    "version": 3
   },
   "file_extension": ".py",
   "mimetype": "text/x-python",
   "name": "python",
   "nbconvert_exporter": "python",
   "pygments_lexer": "ipython3",
   "version": "3.11.4"
  },
  "orig_nbformat": 4
 },
 "nbformat": 4,
 "nbformat_minor": 2
}
